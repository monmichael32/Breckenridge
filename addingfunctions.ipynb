{
 "cells": [
  {
   "cell_type": "code",
   "execution_count": 1,
   "metadata": {},
   "outputs": [],
   "source": [
    "from selenium import webdriver\n",
    "from selenium.webdriver.common.by import By \n",
    "from selenium.webdriver.support.ui import WebDriverWait \n",
    "from selenium.webdriver.support import expected_conditions as EC\n",
    "import time\n",
    "from datetime import datetime\n",
    "import json\n",
    "import requests\n",
    "from bs4 import BeautifulSoup"
   ]
  },
  {
   "cell_type": "code",
   "execution_count": 2,
   "metadata": {},
   "outputs": [],
   "source": [
    "#Setting up the webdriver\n",
    "options = webdriver.ChromeOptions()\n",
    "options.add_argument(\"--ignore-certificate-errors\")\n",
    "options.add_argument(\"--incognito\")\n",
    "global driver\n",
    "#options.add_argument(\"--headless\")\n",
    "driver = webdriver.Chrome(options=options)"
   ]
  },
  {
   "cell_type": "code",
   "execution_count": 3,
   "metadata": {
    "scrolled": true
   },
   "outputs": [],
   "source": [
    "#Signing into the account, and going to the needed URL\n",
    "driver.get(\"https://www.bgvgrandcentral.com/\")\n",
    "username = driver.find_element_by_name(\"loginModel.Username\").send_keys(\"\")\n",
    "Password = driver.find_element_by_name(\"loginModel.Password\").send_keys(\"\")\n",
    "form = driver.find_element_by_tag_name(\"form\")\n",
    "form.submit()\n",
    "driver.get(\"https://www.bgvgrandcentral.com/reservations/bonus-time\")\n",
    "driver.implicitly_wait(15)\n",
    "classes = driver.find_element_by_class_name(\"container\")\n",
    "path_GC8 = '//*[@id=\"tabGC8\"]/a'\n",
    "path_GL7 = '//*[@id=\"tabGL7\"]/a'\n",
    "path_GTL = '//*[@id=\"tabGTL\"]/a'\n",
    "path_GP = '//*[@id=\"tabGP\"]/a'\n",
    "#list_1 is webelements associated to available dates\n",
    "list_1 = []\n",
    "#list_3 refreshed list of webelements after one is clicked on\n",
    "list_3 = []\n",
    "myDict = {}"
   ]
  },
  {
   "cell_type": "code",
   "execution_count": 4,
   "metadata": {},
   "outputs": [],
   "source": [
    "#Selects the lodge via xpath, collects avaialable dates, runs procedure-calls the whole program\n",
    "def select_lodge(lodge):\n",
    "  Calendar = []\n",
    "  myDate = ''\n",
    "  driver.get(\"https://www.bgvgrandcentral.com/reservations/bonus-time\")\n",
    "  driver.implicitly_wait(5)\n",
    "  try:\n",
    "    driver.implicitly_wait(15)\n",
    "    driver.find_element_by_xpath(lodge).click()\n",
    "  except:\n",
    "    driver.implicitly_wait(30)\n",
    "    driver.find_element_by_xpath(lodge).click()\n",
    "  #print(lodge)\n",
    "  month_dates = get_dates()\n",
    "  get_date_webelements()\n",
    "  lodgename = get_lodge_name(lodge)\n",
    "  print(lodgename)\n",
    "  print(\"month_dates:\",month_dates)\n",
    "  Procedure(month_dates,lodge,lodgename)"
   ]
  },
  {
   "cell_type": "code",
   "execution_count": 5,
   "metadata": {
    "scrolled": false
   },
   "outputs": [],
   "source": [
    "#Creates a list of the month dates available\n",
    "def get_dates():\n",
    "  month_dates = []\n",
    "  Calendar = driver.find_elements_by_class_name(\"selectable\")\n",
    "  Date = 0\n",
    "  for myDate in Calendar: \n",
    "    try:\n",
    "        Calendar = driver.find_elements_by_class_name(\"selectable\")\n",
    "        D = (myDate.find_element_by_tag_name(\"a\"))\n",
    "        Date = int(D.text)\n",
    "        month_dates.extend([Date])\n",
    "        driver.implicitly_wait(3)\n",
    "    except:\n",
    "        pass\n",
    "  return month_dates\n",
    "\n",
    "#Collects the webelements connected to the month dates available\n",
    "def get_date_webelements(): \n",
    "  list_1 = []\n",
    "  Calendar = driver.find_elements_by_class_name(\"selectable\")\n",
    "  for myDate in Calendar:     \n",
    "    try:\n",
    "        Calendar = driver.find_elements_by_class_name(\"selectable\")\n",
    "        D = (myDate.find_element_by_tag_name(\"a\"))\n",
    "        list_1.extend([D])\n",
    "        driver.implicitly_wait(3)\n",
    "    except:\n",
    "        pass\n",
    "  return list_1\n",
    "\n",
    "#Supplies the lodge name to the dictKey in the dictionary\n",
    "def get_lodge_name(lodge):\n",
    "    if lodge == '//*[@id=\"tabGC8\"]/a':\n",
    "      lodgename = \"GC8\"\n",
    "    elif lodge == '//*[@id=\"tabGL7\"]/a':\n",
    "      lodgename = \"GL7\"\n",
    "    elif lodge == '//*[@id=\"tabGTL\"]/a':\n",
    "      lodgename = \"GTL\"\n",
    "    else:\n",
    "      lodgename = \"GP\"\n",
    "    return lodgename\n",
    "\n",
    "#refreshes the page to deselect previous dates\n",
    "def refresh(lodge):\n",
    "    homepage = driver.find_element_by_xpath('//*[@id=\"topNav\"]/div/a/img').click()\n",
    "    driver.implicitly_wait(10)\n",
    "    driver.get(\"https://www.bgvgrandcentral.com/reservations/bonus-time\")\n",
    "    driver.implicitly_wait(5)\n",
    "    try:\n",
    "      driver.implicitly_wait(15)\n",
    "      driver.find_element_by_xpath(lodge).click()\n",
    "    except:\n",
    "      driver.implicitly_wait(30)\n",
    "      driver.find_element_by_xpath(lodge).click()\n",
    "    driver.implicitly_wait(10)"
   ]
  },
  {
   "cell_type": "code",
   "execution_count": 6,
   "metadata": {
    "scrolled": true
   },
   "outputs": [],
   "source": [
    "#Calls the functions to create the dictionary of available dates\n",
    "def Procedure (month_dates,lodge,lodgename):\n",
    "  checkout = 0\n",
    "  indexnumber = 0\n",
    "  checkin = 0\n",
    "  list_3 = []\n",
    "  for Date in month_dates:\n",
    "    indexnumber = month_dates.index(Date)\n",
    "    checkout = Date+1\n",
    "    checkin = str(Date)\n",
    "    dictKey = (lodgename+\"_\"+checkin)\n",
    "    if checkout in month_dates and indexnumber == 0:\n",
    "      checkinout(indexnumber,Date,dictKey)\n",
    "      \n",
    "    elif checkout in month_dates:\n",
    "      deselect_checkout(indexnumber,Date,lodge,dictKey)\n",
    "    else:\n",
    "      checkin_fill(indexnumber,Date,lodge,dictKey)\n",
    "      "
   ]
  },
  {
   "cell_type": "code",
   "execution_count": 7,
   "metadata": {},
   "outputs": [],
   "source": [
    "#Selects intial checkin/out dates\n",
    "def checkinout (indexnumber,Date,dictKey):\n",
    "    list_1 = get_date_webelements()\n",
    "    list_1[indexnumber].click()\n",
    "    driver.implicitly_wait(3)\n",
    "    list_3 = (driver.find_elements_by_class_name(\"selectable\"))\n",
    "    list_3[indexnumber].click() \n",
    "    driver.implicitly_wait(3)\n",
    "    form = driver.find_element_by_tag_name(\"form\")\n",
    "    form.submit()\n",
    "    table(myDict,dictKey)\n",
    "    \n",
    "#Calls the refresh function and runs checkinout\n",
    "def deselect_checkout(indexnumber,Date,lodge,dictKey):\n",
    "    refresh(lodge)\n",
    "    checkinout(indexnumber,Date,dictKey)\n",
    "\n",
    "#Selects a single date that auto fills the checkout date          \n",
    "def checkin_fill(indexnumber,Date,lodge,dictKey):\n",
    "    refresh(lodge)\n",
    "    list_1 = get_date_webelements()\n",
    "    list_1[indexnumber].click()\n",
    "    driver.implicitly_wait(3)\n",
    "    form = driver.find_element_by_tag_name(\"form\")\n",
    "    form.submit()\n",
    "    driver.implicitly_wait(3)\n",
    "    table(myDict,dictKey)\n",
    "    refresh(lodge)"
   ]
  },
  {
   "cell_type": "code",
   "execution_count": 8,
   "metadata": {},
   "outputs": [],
   "source": [
    "#Populates the dictionary\n",
    "def table(myDict, dictKey):\n",
    "    driver.implicitly_wait(3)\n",
    "    Table = driver.find_elements_by_xpath(\"/html/body/div[1]/div[5]/div/div[1]/div[2]/div[6]/div/table//tr/td\")\n",
    "    counter = 1\n",
    "    myDict[dictKey] = \"\"\n",
    "    for element in Table:\n",
    "        myDict[dictKey] = myDict[dictKey] + \":\" +(element.text)\n",
    "    return myDict      "
   ]
  },
  {
   "cell_type": "code",
   "execution_count": 9,
   "metadata": {
    "scrolled": true
   },
   "outputs": [
    {
     "name": "stdout",
     "output_type": "stream",
     "text": [
      "GC8\n",
      "month_dates: [28, 29, 30, 1, 2, 3, 4, 5, 9, 11]\n",
      "GL7\n",
      "month_dates: [28, 3]\n",
      "GTL\n",
      "month_dates: [28, 29, 30, 1, 2, 3, 4, 5]\n",
      "{\n",
      "    \"GC8_28\": \":Room Type:Rate\\n(Includes tax & resort fees):Sleeps::Suite:111.88:4:Reserve:1 Bedroom Breckenridge:137.02:4:Reserve\",\n",
      "    \"GC8_29\": \":Room Type:Rate\\n(Includes tax & resort fees):Sleeps::Suite:111.88:4:Reserve:1 Bedroom Breckenridge:137.02:4:Reserve\",\n",
      "    \"GC8_30\": \":Room Type:Rate\\n(Includes tax & resort fees):Sleeps::Suite:137.02:4:Reserve\",\n",
      "    \"GC8_1\": \":Room Type:Rate\\n(Includes tax & resort fees):Sleeps::Suite:111.88:4:Reserve:1 Bedroom Breckenridge:137.02:4:Reserve\",\n",
      "    \"GC8_2\": \":Room Type:Rate\\n(Includes tax & resort fees):Sleeps::Suite:111.88:4:Reserve\",\n",
      "    \"GC8_3\": \":Room Type:Rate\\n(Includes tax & resort fees):Sleeps::Suite:111.88:4:Reserve\",\n",
      "    \"GC8_4\": \":Room Type:Rate\\n(Includes tax & resort fees):Sleeps::Suite:111.88:4:Reserve\",\n",
      "    \"GC8_5\": \":Room Type:Rate\\n(Includes tax & resort fees):Sleeps::Suite:111.88:4:Reserve\",\n",
      "    \"GC8_9\": \":Room Type:Rate\\n(Includes tax & resort fees):Sleeps::Suite:111.88:4:Reserve\",\n",
      "    \"GC8_11\": \":Room Type:Rate\\n(Includes tax & resort fees):Sleeps::Suite:111.88:4:Reserve:1 Bedroom Breckenridge:137.02:4:Reserve\",\n",
      "    \"GL7_28\": \":Room Type:Rate\\n(Includes tax & resort fees):Sleeps::Suite:99.31:4:Reserve\",\n",
      "    \"GL7_3\": \":Room Type:Rate\\n(Includes tax & resort fees):Sleeps::Suite:99.31:4:Reserve:1 Bedroom:124.45:4:Reserve\",\n",
      "    \"GTL_28\": \":Room Type:Rate\\n(Includes tax & resort fees):Sleeps::Studio:97.57:4:Reserve:1 Bedroom:122.27:4:Reserve:2 Room Studio/Kitchenette:109.92:6:Reserve\",\n",
      "    \"GTL_29\": \":Room Type:Rate\\n(Includes tax & resort fees):Sleeps::Studio:97.57:4:Reserve:1 Bedroom:122.27:4:Reserve:2 Room Studio/Kitchenette:109.92:6:Reserve\",\n",
      "    \"GTL_30\": \":Room Type:Rate\\n(Includes tax & resort fees):Sleeps::Studio:109.92:4:Reserve\",\n",
      "    \"GTL_1\": \":Room Type:Rate\\n(Includes tax & resort fees):Sleeps::Studio:97.57:4:Reserve:1 Bedroom:122.27:4:Reserve\",\n",
      "    \"GTL_2\": \":Room Type:Rate\\n(Includes tax & resort fees):Sleeps::Studio:97.57:4:Reserve:1 Bedroom:122.27:4:Reserve:2 Bedroom:159.32:8:Reserve\",\n",
      "    \"GTL_3\": \":Room Type:Rate\\n(Includes tax & resort fees):Sleeps::Studio:97.57:4:Reserve:1 Bedroom:122.27:4:Reserve:2 Bedroom:159.32:8:Reserve\",\n",
      "    \"GTL_4\": \":Room Type:Rate\\n(Includes tax & resort fees):Sleeps::Studio:97.57:4:Reserve\",\n",
      "    \"GTL_5\": \":Room Type:Rate\\n(Includes tax & resort fees):Sleeps::Studio:97.57:4:Reserve:1 Bedroom:122.27:4:Reserve:2 Bedroom:159.32:8:Reserve\"\n",
      "}\n"
     ]
    }
   ],
   "source": [
    "select_lodge(path_GC8)\n",
    "select_lodge(path_GL7)\n",
    "select_lodge(path_GTL)\n",
    "#converts the dictionary to jsonselect_lodge(path_GP)\n",
    "json_object = json.dumps(myDict, indent = 4)   \n",
    "print(json_object)"
   ]
  },
  {
   "cell_type": "code",
   "execution_count": null,
   "metadata": {},
   "outputs": [],
   "source": []
  },
  {
   "cell_type": "code",
   "execution_count": null,
   "metadata": {},
   "outputs": [],
   "source": []
  },
  {
   "cell_type": "code",
   "execution_count": null,
   "metadata": {},
   "outputs": [],
   "source": []
  }
 ],
 "metadata": {
  "kernelspec": {
   "display_name": "Python 3",
   "language": "python",
   "name": "python3"
  },
  "language_info": {
   "codemirror_mode": {
    "name": "ipython",
    "version": 3
   },
   "file_extension": ".py",
   "mimetype": "text/x-python",
   "name": "python",
   "nbconvert_exporter": "python",
   "pygments_lexer": "ipython3",
   "version": "3.8.4"
  }
 },
 "nbformat": 4,
 "nbformat_minor": 4
}
