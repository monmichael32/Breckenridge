{
 "cells": [
  {
   "cell_type": "code",
   "execution_count": 26,
   "metadata": {},
   "outputs": [],
   "source": [
    "from selenium import webdriver\n",
    "from selenium.webdriver.support.select import Select\n",
    "#from webdriver_manager.chrome import ChromeDriverManager"
   ]
  },
  {
   "cell_type": "code",
   "execution_count": 27,
   "metadata": {},
   "outputs": [],
   "source": [
    "options = webdriver.ChromeOptions()\n",
    "options.add_argument(\"--ignore-certificate-errors\")\n",
    "options.add_argument(\"--incognito\")\n",
    "#options.add_argument(\"--headless\")\n",
    "driver = webdriver.Chrome(options=options)"
   ]
  },
  {
   "cell_type": "code",
   "execution_count": 28,
   "metadata": {
    "scrolled": true
   },
   "outputs": [],
   "source": [
    "\n",
    "driver.get(\"https://www.bgvgrandcentral.com/\")\n",
    "username = driver.find_element_by_name(\"loginModel.Username\").send_keys(\"\")\n",
    "Password = driver.find_element_by_name(\"loginModel.Password\").send_keys(\"\")\n",
    "form = driver.find_element_by_tag_name(\"form\")\n",
    "form.submit()\n",
    "#classes.print()"
   ]
  },
  {
   "cell_type": "code",
   "execution_count": 33,
   "metadata": {
    "scrolled": false
   },
   "outputs": [],
   "source": [
    "driver.get(\"https://www.bgvgrandcentral.com/reservations/bonus-time\")\n",
    "driver.implicitly_wait(15)\n",
    "classes = driver.find_element_by_class_name(\"container\")\n",
    "#gc8class = driver.find_element_by_class_name(\"dvBtCalendar\")\n",
    "gc8id = driver.find_elements_by_id(\"tabGC8\")\n",
    "GC8 = '//*[@id=\"tabGC8\"]/a'\n",
    "GL7 = '//*[@id=\"tabGL7\"]/a'\n",
    "GTL = '//*[@id=\"tabGTL\"]/a'\n",
    "GP = '//*[@id=\"tabGP\"]/a'\n",
    "driver.find_element_by_xpath(GC8).click()\n",
    "#sel = Select (driver.find_element_by_id (\"tabGC8\"))\n",
    "#selectgc8id = Select(driver.find_element_by_id(\"tabGC8\"))\n",
    "#gc8id.click()\n",
    "#gc8id.print()\n",
    "#gc8id.submit()"
   ]
  },
  {
   "cell_type": "code",
   "execution_count": 36,
   "metadata": {
    "scrolled": true
   },
   "outputs": [],
   "source": [
    "Calendar = driver.find_element_by_class_name(\"ui-datepicker-calendar\")\n",
    "Date = driver.find_element_by_class_name(\"ui-state-default\")\n",
    "selectgc8id = Select(driver.find_element_by_xpath())"
   ]
  },
  {
   "cell_type": "code",
   "execution_count": 7,
   "metadata": {},
   "outputs": [],
   "source": [
    "driver.quit()"
   ]
  },
  {
   "cell_type": "code",
   "execution_count": null,
   "metadata": {},
   "outputs": [],
   "source": []
  }
 ],
 "metadata": {
  "kernelspec": {
   "display_name": "Python 3",
   "language": "python",
   "name": "python3"
  },
  "language_info": {
   "codemirror_mode": {
    "name": "ipython",
    "version": 3
   },
   "file_extension": ".py",
   "mimetype": "text/x-python",
   "name": "python",
   "nbconvert_exporter": "python",
   "pygments_lexer": "ipython3",
   "version": "3.8.4"
  }
 },
 "nbformat": 4,
 "nbformat_minor": 4
}
