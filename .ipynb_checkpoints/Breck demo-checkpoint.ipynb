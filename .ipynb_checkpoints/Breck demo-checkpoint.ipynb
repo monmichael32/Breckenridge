{
 "cells": [
  {
   "cell_type": "code",
   "execution_count": 1,
   "metadata": {},
   "outputs": [],
   "source": [
    "from selenium import webdriver\n",
    "from datetime import datetime\n",
    "import json\n",
    "import requests\n",
    "from bs4 import BeautifulSoup\n",
    "#from selenium.webdriver.support.select import Select\n",
    "#from webdriver_manager.chrome import ChromeDriverManager"
   ]
  },
  {
   "cell_type": "code",
   "execution_count": 2,
   "metadata": {},
   "outputs": [],
   "source": [
    "options = webdriver.ChromeOptions()\n",
    "options.add_argument(\"--ignore-certificate-errors\")\n",
    "options.add_argument(\"--incognito\")\n",
    "global driver\n",
    "#options.add_argument(\"--headless\")\n",
    "driver = webdriver.Chrome(options=options)"
   ]
  },
  {
   "cell_type": "code",
   "execution_count": 3,
   "metadata": {
    "scrolled": true
   },
   "outputs": [],
   "source": [
    "driver.get(\"https://www.bgvgrandcentral.com/\")\n",
    "username = driver.find_element_by_name(\"loginModel.Username\").send_keys(\"\")\n",
    "Password = driver.find_element_by_name(\"loginModel.Password\").send_keys(\"\")\n",
    "form = driver.find_element_by_tag_name(\"form\")\n",
    "form.submit()\n",
    "#classes.print()"
   ]
  },
  {
   "cell_type": "code",
   "execution_count": 4,
   "metadata": {
    "scrolled": false
   },
   "outputs": [],
   "source": [
    "driver.get(\"https://www.bgvgrandcentral.com/reservations/bonus-time\")\n",
    "driver.implicitly_wait(15)\n",
    "classes = driver.find_element_by_class_name(\"container\")\n",
    "path_GC8 = '//*[@id=\"tabGC8\"]/a'\n",
    "path_GL7 = '//*[@id=\"tabGL7\"]/a'\n",
    "path_GTL = '//*[@id=\"tabGTL\"]/a'\n",
    "path_GP = '//*[@id=\"tabGP\"]/a'\n",
    "def checkinout(M,Y,D):\n",
    "  dt_string = (M+\"/\"+D.text+\"/\"+Y)\n",
    "  #print(dt_string)\n",
    "  CD = int(D.text)\n",
    "  CD = CD+1\n",
    "  cd = str(CD)\n",
    "  odt_string = (M+\"/\"+cd+\"/\"+Y)\n",
    "  print(dt_string,odt_string)\n",
    "  #driver.find_element_by_css_selector(\"selectable\").find_element_by_\n",
    "  #driver.find_element_by_tag_name(\"a\").click()\n",
    "  elements = driver.find_elements_by_class_name(\"selectable\")\n",
    "  #print (elements)\n",
    "  #for index in range(len(elements)):\n",
    "  #print (elements[0])\n",
    "  elements[0].find_element_by_tag_name('a').click()\n",
    "  form = driver.find_element_by_tag_name(\"form\")\n",
    "  form.submit()\n",
    "  driver.implicitly_wait(3)\n",
    "  #get_url = driver.current_url\n",
    "  #driver.get(get_url)\n",
    "  with open(\"page_source.html\", \"w\") as f:\n",
    "    f.write(driver.page_source)\n",
    "    \n",
    "  #R = driver.find_element_by_id(\"dvResults\")\n",
    "  #print (R.get_attribute(\"innerHTML\").encode(\"utf-8\"))\n",
    "  #availabilityHTML = driver.execute_script(\"return document.body.wrapper.contentBody.contentContainer.container.dvBtCalendar.dvResults.innerHTML;\")\n",
    "  #availabilityHTML = driver.execute_script(\"return document.body.dvResults.innerHTML;\")\n",
    "  #print (availabilityHTML)\n",
    "  #print(R.text)\n",
    "  #Checkin = driver.find_element_by_name(\"InDate\").send_keys(M,\"/\",D.text,\"/\",Y)\n",
    "  #Checkout = driver.find_element_by_name(\"OutDate\").send_keys(M,\"/\",CD,\"/\",Y)\n",
    "  #form = driver.find_element_by_tag_name(\"form\")\n",
    "  #form.submit()\n",
    "    \n",
    "def get_dates(lodge):\n",
    "  driver.get(\"https://www.bgvgrandcentral.com/reservations/bonus-time\")\n",
    "  driver.implicitly_wait(15)\n",
    "  driver.find_element_by_xpath(lodge).click()\n",
    "  driver.implicitly_wait(15)\n",
    "  Calendar = driver.find_elements_by_class_name(\"selectable\")\n",
    "  #dir(lodge)\n",
    "  for myDate in Calendar: \n",
    "    #oM = (myDate.get_attribute(\"data-month\"))\n",
    "    #om = int(oM)\n",
    "    #om = om+1\n",
    "    #M = str(om)\n",
    "    #Y = (myDate.get_attribute(\"data-year\"))\n",
    "    D = (myDate.find_element_by_tag_name(\"a\"))\n",
    "    checkinout(M,Y,D)\n",
    "    driver.implicitly_wait(3)\n",
    "    Calendar = driver.find_elements_by_class_name(\"selectable\")\n",
    "    #myDate = None\n",
    "  #print(dt_string)\n",
    "    #CD = int(D.text)\n",
    "    #CD = CD+1\n",
    "    #cd = str(CD)\n",
    "    #odt_string = (M+\"/\"+cd+\"/\"+Y)\n",
    "    #print(dt_string,odt_string)\n",
    "  #driver.find_element_by_css_selector(\"selectable\").find_element_by_\n",
    "  #driver.find_element_by_tag_name(\"a\").click()\n",
    "    #elements = driver.find_elements_by_class_name(\"selectable\")\n",
    "    #print (elements[0])\n",
    "    #elements[0].find_element_by_tag_name('a').click()\n",
    "    #form = driver.find_element_by_tag_name(\"form\")\n",
    "    #form.submit()\n",
    "#elements[0].find_element_by_xpath('.//a[@class=\"ui-state-active\"]')\n",
    "  #driver.find_element_by_class_name(\"selectable\").find_element_by_class_name(\"ui-state-active\").click()  \n",
    "    #dir(D)\n",
    "#get_dates(GL7)\n",
    "#get_dates(GC8)\n",
    "#get_dates(GTL)\n",
    "#get_dates(GP)\n",
    "#listLodges=[GP]\n",
    "#for lodge in listLodges:\n",
    "  #driver.find_element_by_xpath(lodge).click()"
   ]
  },
  {
   "cell_type": "code",
   "execution_count": 5,
   "metadata": {
    "scrolled": false
   },
   "outputs": [
    {
     "name": "stdout",
     "output_type": "stream",
     "text": [
      "10/21/2020 10/22/2020\n"
     ]
    },
    {
     "ename": "StaleElementReferenceException",
     "evalue": "Message: stale element reference: element is not attached to the page document\n  (Session info: chrome=86.0.4240.80)\n",
     "output_type": "error",
     "traceback": [
      "\u001b[0;31m---------------------------------------------------------------------------\u001b[0m",
      "\u001b[0;31mStaleElementReferenceException\u001b[0m            Traceback (most recent call last)",
      "\u001b[0;32m<ipython-input-5-1f7eb404fe28>\u001b[0m in \u001b[0;36m<module>\u001b[0;34m\u001b[0m\n\u001b[0;32m----> 1\u001b[0;31m \u001b[0mget_dates\u001b[0m\u001b[0;34m(\u001b[0m\u001b[0mpath_GC8\u001b[0m\u001b[0;34m)\u001b[0m\u001b[0;34m\u001b[0m\u001b[0;34m\u001b[0m\u001b[0m\n\u001b[0m\u001b[1;32m      2\u001b[0m \u001b[0mget_dates\u001b[0m\u001b[0;34m(\u001b[0m\u001b[0mpath_GL7\u001b[0m\u001b[0;34m)\u001b[0m\u001b[0;34m\u001b[0m\u001b[0;34m\u001b[0m\u001b[0m\n\u001b[1;32m      3\u001b[0m \u001b[0mget_dates\u001b[0m\u001b[0;34m(\u001b[0m\u001b[0mpath_GTL\u001b[0m\u001b[0;34m)\u001b[0m\u001b[0;34m\u001b[0m\u001b[0;34m\u001b[0m\u001b[0m\n\u001b[1;32m      4\u001b[0m \u001b[0mget_dates\u001b[0m\u001b[0;34m(\u001b[0m\u001b[0mpath_GP\u001b[0m\u001b[0;34m)\u001b[0m\u001b[0;34m\u001b[0m\u001b[0;34m\u001b[0m\u001b[0m\n",
      "\u001b[0;32m<ipython-input-4-05b0155eb25c>\u001b[0m in \u001b[0;36mget_dates\u001b[0;34m(lodge)\u001b[0m\n\u001b[1;32m     48\u001b[0m   \u001b[0;31m#dir(lodge)\u001b[0m\u001b[0;34m\u001b[0m\u001b[0;34m\u001b[0m\u001b[0;34m\u001b[0m\u001b[0m\n\u001b[1;32m     49\u001b[0m   \u001b[0;32mfor\u001b[0m \u001b[0mmyDate\u001b[0m \u001b[0;32min\u001b[0m \u001b[0mCalendar\u001b[0m\u001b[0;34m:\u001b[0m\u001b[0;34m\u001b[0m\u001b[0;34m\u001b[0m\u001b[0m\n\u001b[0;32m---> 50\u001b[0;31m     \u001b[0moM\u001b[0m \u001b[0;34m=\u001b[0m \u001b[0;34m(\u001b[0m\u001b[0mmyDate\u001b[0m\u001b[0;34m.\u001b[0m\u001b[0mget_attribute\u001b[0m\u001b[0;34m(\u001b[0m\u001b[0;34m\"data-month\"\u001b[0m\u001b[0;34m)\u001b[0m\u001b[0;34m)\u001b[0m\u001b[0;34m\u001b[0m\u001b[0;34m\u001b[0m\u001b[0m\n\u001b[0m\u001b[1;32m     51\u001b[0m     \u001b[0mom\u001b[0m \u001b[0;34m=\u001b[0m \u001b[0mint\u001b[0m\u001b[0;34m(\u001b[0m\u001b[0moM\u001b[0m\u001b[0;34m)\u001b[0m\u001b[0;34m\u001b[0m\u001b[0;34m\u001b[0m\u001b[0m\n\u001b[1;32m     52\u001b[0m     \u001b[0mom\u001b[0m \u001b[0;34m=\u001b[0m \u001b[0mom\u001b[0m\u001b[0;34m+\u001b[0m\u001b[0;36m1\u001b[0m\u001b[0;34m\u001b[0m\u001b[0;34m\u001b[0m\u001b[0m\n",
      "\u001b[0;32m/Library/Frameworks/Python.framework/Versions/3.8/lib/python3.8/site-packages/selenium/webdriver/remote/webelement.py\u001b[0m in \u001b[0;36mget_attribute\u001b[0;34m(self, name)\u001b[0m\n\u001b[1;32m    137\u001b[0m         \u001b[0mattributeValue\u001b[0m \u001b[0;34m=\u001b[0m \u001b[0;34m''\u001b[0m\u001b[0;34m\u001b[0m\u001b[0;34m\u001b[0m\u001b[0m\n\u001b[1;32m    138\u001b[0m         \u001b[0;32mif\u001b[0m \u001b[0mself\u001b[0m\u001b[0;34m.\u001b[0m\u001b[0m_w3c\u001b[0m\u001b[0;34m:\u001b[0m\u001b[0;34m\u001b[0m\u001b[0;34m\u001b[0m\u001b[0m\n\u001b[0;32m--> 139\u001b[0;31m             attributeValue = self.parent.execute_script(\n\u001b[0m\u001b[1;32m    140\u001b[0m                 \u001b[0;34m\"return (%s).apply(null, arguments);\"\u001b[0m \u001b[0;34m%\u001b[0m \u001b[0mgetAttribute_js\u001b[0m\u001b[0;34m,\u001b[0m\u001b[0;34m\u001b[0m\u001b[0;34m\u001b[0m\u001b[0m\n\u001b[1;32m    141\u001b[0m                 self, name)\n",
      "\u001b[0;32m/Library/Frameworks/Python.framework/Versions/3.8/lib/python3.8/site-packages/selenium/webdriver/remote/webdriver.py\u001b[0m in \u001b[0;36mexecute_script\u001b[0;34m(self, script, *args)\u001b[0m\n\u001b[1;32m    632\u001b[0m             \u001b[0mcommand\u001b[0m \u001b[0;34m=\u001b[0m \u001b[0mCommand\u001b[0m\u001b[0;34m.\u001b[0m\u001b[0mEXECUTE_SCRIPT\u001b[0m\u001b[0;34m\u001b[0m\u001b[0;34m\u001b[0m\u001b[0m\n\u001b[1;32m    633\u001b[0m \u001b[0;34m\u001b[0m\u001b[0m\n\u001b[0;32m--> 634\u001b[0;31m         return self.execute(command, {\n\u001b[0m\u001b[1;32m    635\u001b[0m             \u001b[0;34m'script'\u001b[0m\u001b[0;34m:\u001b[0m \u001b[0mscript\u001b[0m\u001b[0;34m,\u001b[0m\u001b[0;34m\u001b[0m\u001b[0;34m\u001b[0m\u001b[0m\n\u001b[1;32m    636\u001b[0m             'args': converted_args})['value']\n",
      "\u001b[0;32m/Library/Frameworks/Python.framework/Versions/3.8/lib/python3.8/site-packages/selenium/webdriver/remote/webdriver.py\u001b[0m in \u001b[0;36mexecute\u001b[0;34m(self, driver_command, params)\u001b[0m\n\u001b[1;32m    319\u001b[0m         \u001b[0mresponse\u001b[0m \u001b[0;34m=\u001b[0m \u001b[0mself\u001b[0m\u001b[0;34m.\u001b[0m\u001b[0mcommand_executor\u001b[0m\u001b[0;34m.\u001b[0m\u001b[0mexecute\u001b[0m\u001b[0;34m(\u001b[0m\u001b[0mdriver_command\u001b[0m\u001b[0;34m,\u001b[0m \u001b[0mparams\u001b[0m\u001b[0;34m)\u001b[0m\u001b[0;34m\u001b[0m\u001b[0;34m\u001b[0m\u001b[0m\n\u001b[1;32m    320\u001b[0m         \u001b[0;32mif\u001b[0m \u001b[0mresponse\u001b[0m\u001b[0;34m:\u001b[0m\u001b[0;34m\u001b[0m\u001b[0;34m\u001b[0m\u001b[0m\n\u001b[0;32m--> 321\u001b[0;31m             \u001b[0mself\u001b[0m\u001b[0;34m.\u001b[0m\u001b[0merror_handler\u001b[0m\u001b[0;34m.\u001b[0m\u001b[0mcheck_response\u001b[0m\u001b[0;34m(\u001b[0m\u001b[0mresponse\u001b[0m\u001b[0;34m)\u001b[0m\u001b[0;34m\u001b[0m\u001b[0;34m\u001b[0m\u001b[0m\n\u001b[0m\u001b[1;32m    322\u001b[0m             response['value'] = self._unwrap_value(\n\u001b[1;32m    323\u001b[0m                 response.get('value', None))\n",
      "\u001b[0;32m/Library/Frameworks/Python.framework/Versions/3.8/lib/python3.8/site-packages/selenium/webdriver/remote/errorhandler.py\u001b[0m in \u001b[0;36mcheck_response\u001b[0;34m(self, response)\u001b[0m\n\u001b[1;32m    240\u001b[0m                 \u001b[0malert_text\u001b[0m \u001b[0;34m=\u001b[0m \u001b[0mvalue\u001b[0m\u001b[0;34m[\u001b[0m\u001b[0;34m'alert'\u001b[0m\u001b[0;34m]\u001b[0m\u001b[0;34m.\u001b[0m\u001b[0mget\u001b[0m\u001b[0;34m(\u001b[0m\u001b[0;34m'text'\u001b[0m\u001b[0;34m)\u001b[0m\u001b[0;34m\u001b[0m\u001b[0;34m\u001b[0m\u001b[0m\n\u001b[1;32m    241\u001b[0m             \u001b[0;32mraise\u001b[0m \u001b[0mexception_class\u001b[0m\u001b[0;34m(\u001b[0m\u001b[0mmessage\u001b[0m\u001b[0;34m,\u001b[0m \u001b[0mscreen\u001b[0m\u001b[0;34m,\u001b[0m \u001b[0mstacktrace\u001b[0m\u001b[0;34m,\u001b[0m \u001b[0malert_text\u001b[0m\u001b[0;34m)\u001b[0m\u001b[0;34m\u001b[0m\u001b[0;34m\u001b[0m\u001b[0m\n\u001b[0;32m--> 242\u001b[0;31m         \u001b[0;32mraise\u001b[0m \u001b[0mexception_class\u001b[0m\u001b[0;34m(\u001b[0m\u001b[0mmessage\u001b[0m\u001b[0;34m,\u001b[0m \u001b[0mscreen\u001b[0m\u001b[0;34m,\u001b[0m \u001b[0mstacktrace\u001b[0m\u001b[0;34m)\u001b[0m\u001b[0;34m\u001b[0m\u001b[0;34m\u001b[0m\u001b[0m\n\u001b[0m\u001b[1;32m    243\u001b[0m \u001b[0;34m\u001b[0m\u001b[0m\n\u001b[1;32m    244\u001b[0m     \u001b[0;32mdef\u001b[0m \u001b[0m_value_or_default\u001b[0m\u001b[0;34m(\u001b[0m\u001b[0mself\u001b[0m\u001b[0;34m,\u001b[0m \u001b[0mobj\u001b[0m\u001b[0;34m,\u001b[0m \u001b[0mkey\u001b[0m\u001b[0;34m,\u001b[0m \u001b[0mdefault\u001b[0m\u001b[0;34m)\u001b[0m\u001b[0;34m:\u001b[0m\u001b[0;34m\u001b[0m\u001b[0;34m\u001b[0m\u001b[0m\n",
      "\u001b[0;31mStaleElementReferenceException\u001b[0m: Message: stale element reference: element is not attached to the page document\n  (Session info: chrome=86.0.4240.80)\n"
     ]
    }
   ],
   "source": [
    "get_dates(path_GC8)\n",
    "get_dates(path_GL7)\n",
    "get_dates(path_GTL)\n",
    "get_dates(path_GP)"
   ]
  },
  {
   "cell_type": "code",
   "execution_count": null,
   "metadata": {},
   "outputs": [],
   "source": [
    "#driver.quit()"
   ]
  },
  {
   "cell_type": "code",
   "execution_count": null,
   "metadata": {},
   "outputs": [],
   "source": [
    "Calendar = driver.find_elements_by_class_name(\"selectable\")\n",
    "list_1 = []\n",
    "for myDate in Calendar:\n",
    "   D = (myDate.find_element_by_tag_name(\"a\")) \n",
    "   list_1.extend([D])"
   ]
  },
  {
   "cell_type": "code",
   "execution_count": null,
   "metadata": {},
   "outputs": [],
   "source": []
  },
  {
   "cell_type": "code",
   "execution_count": null,
   "metadata": {},
   "outputs": [],
   "source": []
  },
  {
   "cell_type": "code",
   "execution_count": null,
   "metadata": {},
   "outputs": [],
   "source": []
  },
  {
   "cell_type": "code",
   "execution_count": null,
   "metadata": {},
   "outputs": [],
   "source": []
  },
  {
   "cell_type": "code",
   "execution_count": null,
   "metadata": {},
   "outputs": [],
   "source": []
  }
 ],
 "metadata": {
  "kernelspec": {
   "display_name": "Python 3",
   "language": "python",
   "name": "python3"
  },
  "language_info": {
   "codemirror_mode": {
    "name": "ipython",
    "version": 3
   },
   "file_extension": ".py",
   "mimetype": "text/x-python",
   "name": "python",
   "nbconvert_exporter": "python",
   "pygments_lexer": "ipython3",
   "version": "3.8.4"
  }
 },
 "nbformat": 4,
 "nbformat_minor": 4
}
