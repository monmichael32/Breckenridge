{
 "cells": [
  {
   "cell_type": "code",
   "execution_count": 1,
   "metadata": {},
   "outputs": [],
   "source": [
    "from selenium import webdriver\n",
    "from datetime import datetime\n",
    "import json\n",
    "import requests\n",
    "from bs4 import BeautifulSoup\n",
    "#from selenium.webdriver.support.select import Select\n",
    "#from webdriver_manager.chrome import ChromeDriverManager"
   ]
  },
  {
   "cell_type": "code",
   "execution_count": 2,
   "metadata": {},
   "outputs": [],
   "source": [
    "options = webdriver.ChromeOptions()\n",
    "options.add_argument(\"--ignore-certificate-errors\")\n",
    "options.add_argument(\"--incognito\")\n",
    "global driver\n",
    "#options.add_argument(\"--headless\")\n",
    "driver = webdriver.Chrome(options=options)"
   ]
  },
  {
   "cell_type": "code",
   "execution_count": 3,
   "metadata": {
    "scrolled": true
   },
   "outputs": [],
   "source": [
    "driver.get(\"https://www.bgvgrandcentral.com/\")\n",
    "username = driver.find_element_by_name(\"loginModel.Username\").send_keys(\"\")\n",
    "Password = driver.find_element_by_name(\"loginModel.Password\").send_keys(\"\")\n",
    "form = driver.find_element_by_tag_name(\"form\")\n",
    "form.submit()\n",
    "#classes.print()"
   ]
  },
  {
   "cell_type": "code",
   "execution_count": 4,
   "metadata": {
    "scrolled": false
   },
   "outputs": [],
   "source": [
    "driver.get(\"https://www.bgvgrandcentral.com/reservations/bonus-time\")\n",
    "driver.implicitly_wait(15)\n",
    "classes = driver.find_element_by_class_name(\"container\")\n",
    "path_GC8 = '//*[@id=\"tabGC8\"]/a'\n",
    "path_GL7 = '//*[@id=\"tabGL7\"]/a'\n",
    "path_GTL = '//*[@id=\"tabGTL\"]/a'\n",
    "path_GP = '//*[@id=\"tabGP\"]/a'\n",
    "def checkinout():\n",
    "  elements = driver.find_elements_by_class_name(\"selectable\")\n",
    "  print(len(elements))\n",
    "  #print (elements)\n",
    "  #for index in range(len(elements)):\n",
    "  print (elements[0])\n",
    "  if len(elements) > 0:\n",
    "      elements[0].find_element_by_tag_name('a').click()\n",
    "      driver.implicitly_wait(3)\n",
    "      elements = driver.find_elements_by_class_name(\"ui-state-active\")\n",
    "      \n",
    "      print(len(elements))\n",
    "      form = driver.find_element_by_tag_name(\"form\")\n",
    "      form.submit()\n",
    "      driver.implicitly_wait(3)\n",
    "      #get_url = driver.current_url\n",
    "      #driver.get(get_url)\n",
    "      with open(\"page_source.html\", \"w\") as f:\n",
    "        f.write(driver.page_source)\n",
    "\n",
    "      #R = driver.find_element_by_id(\"dvResults\")\n",
    "      #print (R.get_attribute(\"innerHTML\").encode(\"utf-8\"))\n",
    "      #availabilityHTML = driver.execute_script(\"return document.body.wrapper.contentBody.contentContainer.container.dvBtCalendar.dvResults.innerHTML;\")\n",
    "      #availabilityHTML = driver.execute_script(\"return document.body.dvResults.innerHTML;\")\n",
    "      #print (availabilityHTML)\n",
    "      #print(R.text)\n",
    "      #Checkin = driver.find_element_by_name(\"InDate\").send_keys(M,\"/\",D.text,\"/\",Y)\n",
    "      #Checkout = driver.find_element_by_name(\"OutDate\").send_keys(M,\"/\",CD,\"/\",Y)\n",
    "      #form = driver.find_element_by_tag_name(\"form\")\n",
    "      #form.submit()\n",
    "    \n",
    "def get_dates(lodge):\n",
    "  driver.get(\"https://www.bgvgrandcentral.com/reservations/bonus-time\")\n",
    "  driver.implicitly_wait(5)\n",
    "  try:\n",
    "    driver.implicitly_wait(15)\n",
    "    driver.find_element_by_xpath(lodge).click()\n",
    "  except:\n",
    "    driver.implicitly_wait(30)\n",
    "    driver.find_element_by_xpath(lodge).click()\n",
    "  list_1 = []\n",
    "  Calendar = driver.find_elements_by_class_name(\"selectable\")\n",
    "  print(lodge)\n",
    "  #dir(lodge)\n",
    "  for myDate in Calendar: \n",
    "    D = (myDate.find_element_by_tag_name(\"a\"))\n",
    "    D = int(D.text)\n",
    "    list_1.extend([D])\n",
    "    print(list_1)\n",
    "    #checkinout()\n",
    "    driver.implicitly_wait(3)\n",
    "    Calendar = driver.find_elements_by_class_name(\"selectable\")"
   ]
  },
  {
   "cell_type": "code",
   "execution_count": 5,
   "metadata": {
    "scrolled": false
   },
   "outputs": [
    {
     "name": "stdout",
     "output_type": "stream",
     "text": [
      "//*[@id=\"tabGC8\"]/a\n",
      "[21]\n",
      "[21, 26]\n",
      "[21, 26, 27]\n",
      "[21, 26, 27, 28]\n",
      "//*[@id=\"tabGL7\"]/a\n",
      "//*[@id=\"tabGTL\"]/a\n",
      "[16]\n",
      "[16, 17]\n",
      "[16, 17, 18]\n",
      "[16, 17, 18, 19]\n",
      "[16, 17, 18, 19, 1]\n",
      "[16, 17, 18, 19, 1, 2]\n",
      "[16, 17, 18, 19, 1, 2, 3]\n",
      "//*[@id=\"tabGP\"]/a\n"
     ]
    }
   ],
   "source": [
    "get_dates(path_GC8)\n",
    "get_dates(path_GL7)\n",
    "get_dates(path_GTL)\n",
    "get_dates(path_GP)"
   ]
  },
  {
   "cell_type": "code",
   "execution_count": 6,
   "metadata": {},
   "outputs": [],
   "source": [
    "#driver.quit()"
   ]
  },
  {
   "cell_type": "code",
   "execution_count": null,
   "metadata": {},
   "outputs": [],
   "source": []
  },
  {
   "cell_type": "code",
   "execution_count": null,
   "metadata": {},
   "outputs": [],
   "source": []
  },
  {
   "cell_type": "code",
   "execution_count": null,
   "metadata": {},
   "outputs": [],
   "source": []
  },
  {
   "cell_type": "code",
   "execution_count": null,
   "metadata": {},
   "outputs": [],
   "source": []
  },
  {
   "cell_type": "code",
   "execution_count": null,
   "metadata": {},
   "outputs": [],
   "source": []
  },
  {
   "cell_type": "code",
   "execution_count": null,
   "metadata": {},
   "outputs": [],
   "source": []
  }
 ],
 "metadata": {
  "kernelspec": {
   "display_name": "Python 3",
   "language": "python",
   "name": "python3"
  },
  "language_info": {
   "codemirror_mode": {
    "name": "ipython",
    "version": 3
   },
   "file_extension": ".py",
   "mimetype": "text/x-python",
   "name": "python",
   "nbconvert_exporter": "python",
   "pygments_lexer": "ipython3",
   "version": "3.8.4"
  }
 },
 "nbformat": 4,
 "nbformat_minor": 4
}
